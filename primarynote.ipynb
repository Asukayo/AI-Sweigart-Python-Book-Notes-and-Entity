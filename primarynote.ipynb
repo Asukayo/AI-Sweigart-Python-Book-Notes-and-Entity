{
 "cells": [
  {
   "metadata": {},
   "cell_type": "code",
   "outputs": [],
   "execution_count": null,
   "source": "print('Python 基础')",
   "id": "541bf8f54e2c6f95"
  },
  {
   "metadata": {
    "ExecuteTime": {
     "end_time": "2024-07-13T12:43:36.612273Z",
     "start_time": "2024-07-13T12:43:35.022340Z"
    }
   },
   "cell_type": "code",
   "source": [
    "# 第一部分--------------------------------------------------------------------------------------\n",
    "# 所有数学操作符 优先级从左往右由高到低\n",
    "2**3 ; 22%8; 22//8; 22/8; 3*5; 5-2; 2+2;# 8指数  6取余数 2取商  2.75除法  乘法  减法 加法\n",
    "\n",
    "# 比较操作符\n",
    "# ==  ！=   < > <=  >= 返回一个Boolen类型的值\n",
    "42.0 == 42 #返回值为True \n",
    "42 =='42' #返回值为False\n",
    "\n",
    "# 布尔操作符\n",
    "# 2and 3or 1not 'and'两者其一为False为False   'or' 两者其一为True即True\n",
    "\n",
    "# 基础数据类型--------------------------------------------------------------------------------------\n",
    "# 有整型 浮点型 字符串三种类型数据  字符串以''表示\n",
    "# 字符串的链接用\"+\"     ****链接字符串时不可以使用int型\n",
    "print('Blice'+'1')  #结果为Blice1\n",
    "# 字符串的复制使用'*'    P.S.复制次数只可以为整型    '*'操作符仅可用于乘法或者字符串的复制操作\n",
    "print('Blice'*2) #结果为BliceBlice\n",
    "# 布尔值 Boolen\n",
    "# True False为两个布尔值 两边没有引号\n",
    "\n",
    "# 变量名-----------------------------------------------------------------------------------\n",
    "#变量名合法： 1.只能包含数字字母下划线2.不可以用数字开头\n",
    "egg = 1   #无需定义变量类型\n",
    "\n",
    "# 基础函数--------------------------------------------------------------------------------------\n",
    "# input函数，函数返回值为字符串类型\n",
    "myName = input()\n",
    "print(myName)\n",
    "# len函数 输入字符串范围int型数据，结果为该字符串长度\n",
    "# str() float() int() 三个类型转换函数\n",
    "# int('99.99')  #会出错 无法求为整数\n",
    "int(99.99)    #结果为99 直接舍去小数部分\n",
    "# --------------------------------------------------------------------------------------\n"
   ],
   "id": "649a38bb4a3a472b",
   "outputs": [
    {
     "name": "stdout",
     "output_type": "stream",
     "text": [
      "Blice1\n",
      "BliceBlice\n",
      "1\n"
     ]
    },
    {
     "data": {
      "text/plain": [
       "99"
      ]
     },
     "execution_count": 8,
     "metadata": {},
     "output_type": "execute_result"
    }
   ],
   "execution_count": 8
  },
  {
   "metadata": {
    "ExecuteTime": {
     "end_time": "2024-07-13T13:21:11.822777Z",
     "start_time": "2024-07-13T13:21:07.072676Z"
    }
   },
   "cell_type": "code",
   "source": [
    "# 第二部分------------------------------------------------------------------------------------\n",
    "# 控制流语句\n",
    "# if 语句   一旦有一个语句为True剩余的语句就都会被跳过\n",
    "ifName = input()\n",
    "elifName = input()\n",
    "if ifName == 'name':\n",
    "    print('Hello')\n",
    "elif elifName == 'age':  # elif语句仅当前面的条件为False时才会执行\n",
    "    print('23')\n",
    "else:\n",
    "    print('Numb')\n",
    "    "
   ],
   "id": "1698da529ecfbdb2",
   "outputs": [
    {
     "name": "stdout",
     "output_type": "stream",
     "text": [
      "Hello\n"
     ]
    }
   ],
   "execution_count": 9
  },
  {
   "metadata": {},
   "cell_type": "markdown",
   "source": "",
   "id": "329ad5e03012f0e9"
  },
  {
   "metadata": {},
   "cell_type": "markdown",
   "source": "",
   "id": "ae433ee103b71216"
  },
  {
   "metadata": {},
   "cell_type": "markdown",
   "source": "",
   "id": "c84351352aa367fb"
  }
 ],
 "metadata": {
  "kernelspec": {
   "display_name": "Python 3",
   "language": "python",
   "name": "python3"
  },
  "language_info": {
   "codemirror_mode": {
    "name": "ipython",
    "version": 2
   },
   "file_extension": ".py",
   "mimetype": "text/x-python",
   "name": "python",
   "nbconvert_exporter": "python",
   "pygments_lexer": "ipython2",
   "version": "2.7.6"
  }
 },
 "nbformat": 4,
 "nbformat_minor": 5
}
