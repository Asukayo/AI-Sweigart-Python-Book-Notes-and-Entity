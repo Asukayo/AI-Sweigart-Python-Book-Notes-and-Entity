{
 "cells": [
  {
   "metadata": {},
   "cell_type": "code",
   "outputs": [],
   "execution_count": null,
   "source": [
    "print('Python 基础')\n",
    "ifName = 'name'"
   ],
   "id": "541bf8f54e2c6f95"
  },
  {
   "metadata": {
    "ExecuteTime": {
     "end_time": "2024-07-14T13:38:23.632651Z",
     "start_time": "2024-07-14T13:38:21.069616Z"
    }
   },
   "cell_type": "code",
   "source": [
    "# 第一部分--------------------------------------------------------------------------------------\n",
    "# 所有数学操作符 优先级从左往右由高到低\n",
    "2**3 ; 22%8; 22//8; 22/8; 3*5; 5-2; 2+2;# 8指数  6取余数 2取商  2.75除法  乘法  减法 加法\n",
    "\n",
    "# 比较操作符\n",
    "# ==  ！=   < > <=  >= 返回一个Boolen类型的值\n",
    "42.0 == 42 #返回值为True \n",
    "42 =='42' #返回值为False\n",
    "\n",
    "# 布尔操作符\n",
    "# 2and 3or 1not 'and'两者其一为False为False   'or' 两者其一为True即True\n",
    "\n",
    "# 基础数据类型--------------------------------------------------------------------------------------\n",
    "# 有整型 浮点型 字符串三种类型数据  字符串以''表示\n",
    "# 字符串的链接用\"+\"     ****链接字符串时不可以使用int型\n",
    "print('Blice'+'1')  #结果为Blice1\n",
    "# 字符串的复制使用'*'    P.S.复制次数只可以为整型    '*'操作符仅可用于乘法或者字符串的复制操作\n",
    "print('Blice'*2) #结果为BliceBlice\n",
    "# 布尔值 Boolen\n",
    "# True False为两个布尔值 两边没有引号     0，0.0，''(空字符串)会被认为False  其余类型均为True\n",
    "\n",
    "# NoneType数据类型  仅有一个值即为None（类似于其他语言中的null）\n",
    "\n",
    "# 变量名-----------------------------------------------------------------------------------\n",
    "#变量名合法： 1.只能包含数字字母下划线2.不可以用数字开头\n",
    "egg = 1   #无需定义变量类型\n",
    "\n",
    "# 基础函数--------------------------------------------------------------------------------------\n",
    "#---input函数，函数返回值为字符串类型\n",
    "myName = input()\n",
    "print(myName)\n",
    "#---len函数 输入字符串范围int型数据，结果为该字符串长度\n",
    "print(len(myName))\n",
    "#---str() float() int() 三个类型转换函数\n",
    "#---int('99.99')  #会出错 无法求为整数\n",
    "int(99.99)    #结果为99 直接舍去小数部分\n",
    "#---range函数 三个参数range(a,b,c) a:起点(默认0)  b：终点(从a至b-1)  c：步长\n",
    "for i in range(5,0,-1):\n",
    "    print(i)\n",
    "#---print函数 两个关键字end和sep end改变结尾，默认以'\\n'结尾  sep改变分隔用的字符串\n",
    "print('Hello','dogs',end='',sep=',')\n",
    "# --------------------------------------------------------------------------------------\n"
   ],
   "id": "649a38bb4a3a472b",
   "outputs": [
    {
     "name": "stdout",
     "output_type": "stream",
     "text": [
      "Blice1\n",
      "BliceBlice\n",
      "1\n",
      "1\n",
      "5\n",
      "4\n",
      "3\n",
      "2\n",
      "1\n",
      "Hello,dogs"
     ]
    }
   ],
   "execution_count": 10
  },
  {
   "metadata": {
    "ExecuteTime": {
     "end_time": "2024-07-14T12:43:22.016054Z",
     "start_time": "2024-07-14T12:43:08.788128Z"
    }
   },
   "cell_type": "code",
   "source": [
    "# 第二部分------------------------------------------------------------------------------------\n",
    "# 控制流语句\n",
    "# if 语句   一旦有一个语句为True剩余的语句就都会被跳过\n",
    "ifName = input()\n",
    "elifName = input()\n",
    "if ifName == 'name':\n",
    "    print('Hello')\n",
    "elif elifName == 'age':  # elif语句仅当前面的条件为False时才会执行\n",
    "    print('23')\n",
    "else:\n",
    "    print('Numb')\n",
    "# while 语句\n",
    "# break 语句\n",
    "# continue 语句\n",
    "while True:\n",
    "    print(\"Who are you?\")\n",
    "    name = input()\n",
    "    if name != 'Joe':\n",
    "        continue\n",
    "    print('Hello Joe.What is your password?')\n",
    "    password = input()\n",
    "    if password == '12345':\n",
    "        break\n",
    "print('welcome!')    \n",
    "    \n",
    "# for循环\n",
    "# for语句通常如下所示\n",
    "for i in range(5):\n",
    "    print(i)\n",
    "    \n",
    "# 可使用sys.exit()提前结束程序"
   ],
   "id": "1698da529ecfbdb2",
   "outputs": [
    {
     "name": "stdout",
     "output_type": "stream",
     "text": [
      "Numb\n",
      "Who are you?\n",
      "Who are you?\n",
      "Who are you?\n",
      "Who are you?\n",
      "Who are you?\n",
      "Who are you?\n",
      "Hello Joe.What is your password?\n",
      "0\n",
      "1\n",
      "2\n",
      "3\n",
      "4\n"
     ]
    }
   ],
   "execution_count": 4
  },
  {
   "metadata": {
    "ExecuteTime": {
     "end_time": "2024-07-14T13:01:00.823452Z",
     "start_time": "2024-07-14T13:01:00.820677Z"
    }
   },
   "cell_type": "code",
   "source": [
    "# 第三部分------------------------------------------------------------------------------------\n",
    "# 导入模块 import语句\n",
    "# 可导入多个不同的模块 使用，隔开\n",
    "import math, random\n",
    "from math import *  #同import math,使用这种方式import的函数无需使用前缀  同时也可以import指定函数\n",
    "# 可以为import 的库取别名\n",
    "# import math as mt\n",
    "print(dir(math))"
   ],
   "id": "6bf2f2b50133fd92",
   "outputs": [
    {
     "name": "stdout",
     "output_type": "stream",
     "text": [
      "['__doc__', '__loader__', '__name__', '__package__', '__spec__', 'acos', 'acosh', 'asin', 'asinh', 'atan', 'atan2', 'atanh', 'cbrt', 'ceil', 'comb', 'copysign', 'cos', 'cosh', 'degrees', 'dist', 'e', 'erf', 'erfc', 'exp', 'exp2', 'expm1', 'fabs', 'factorial', 'floor', 'fmod', 'frexp', 'fsum', 'gamma', 'gcd', 'hypot', 'inf', 'isclose', 'isfinite', 'isinf', 'isnan', 'isqrt', 'lcm', 'ldexp', 'lgamma', 'log', 'log10', 'log1p', 'log2', 'modf', 'nan', 'nextafter', 'perm', 'pi', 'pow', 'prod', 'radians', 'remainder', 'sin', 'sinh', 'sqrt', 'tan', 'tanh', 'tau', 'trunc', 'ulp']\n"
     ]
    }
   ],
   "execution_count": 7
  },
  {
   "metadata": {
    "ExecuteTime": {
     "end_time": "2024-07-14T14:05:01.039442Z",
     "start_time": "2024-07-14T14:05:01.035461Z"
    }
   },
   "cell_type": "code",
   "source": [
    "# 第四部分------------------------------------------------------------------------------------\n",
    "# 使用def关键字来定义函数\n",
    "def hello(name):    #此处的name是局部变量\n",
    "    print('Hello ' + name)\n",
    "    return len(name)    #使用return语句返回相应的值，若一个函数没有return语句则会默认返回None，或是仅有return关键词没有实际值\n",
    "# 关键字参数是由他们前面的关键字来识别的,例如print函数两个关键字end和sep\n",
    "print('Hello',end='')\n",
    "\n",
    "# --------------------------------------------------------------------------------------------\n",
    "# 局部变量与全局变量  可以同时有一个同名的局部变量和全局变量\n",
    "# 全局变量可以被局部作用域所读取\n",
    "spam = 100\n",
    "def bacon():\n",
    "    print(spam)\n",
    "bacon()\n",
    "# 如果要在一个函数内修改全局变量，就是用global语句\n",
    "def baconChange():\n",
    "    global spam\n",
    "    spam += 1\n",
    "    print(spam)\n",
    "baconChange()\n",
    "print(spam)"
   ],
   "id": "646e73354f2efee4",
   "outputs": [
    {
     "name": "stdout",
     "output_type": "stream",
     "text": [
      "Hello100\n",
      "101\n",
      "101\n"
     ]
    }
   ],
   "execution_count": 13
  },
  {
   "metadata": {},
   "cell_type": "code",
   "outputs": [],
   "execution_count": null,
   "source": "",
   "id": "b0c70a7e2445d556"
  }
 ],
 "metadata": {
  "kernelspec": {
   "display_name": "Python 3",
   "language": "python",
   "name": "python3"
  },
  "language_info": {
   "codemirror_mode": {
    "name": "ipython",
    "version": 2
   },
   "file_extension": ".py",
   "mimetype": "text/x-python",
   "name": "python",
   "nbconvert_exporter": "python",
   "pygments_lexer": "ipython2",
   "version": "2.7.6"
  }
 },
 "nbformat": 4,
 "nbformat_minor": 5
}
